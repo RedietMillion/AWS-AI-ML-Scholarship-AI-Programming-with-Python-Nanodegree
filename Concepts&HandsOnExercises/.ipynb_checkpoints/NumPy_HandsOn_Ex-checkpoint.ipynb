{
 "cells": [
  {
   "cell_type": "markdown",
   "id": "69e21b69",
   "metadata": {},
   "source": [
    "# NumPy"
   ]
  },
  {
   "cell_type": "markdown",
   "id": "b2f814df",
   "metadata": {},
   "source": [
    "# 1. Creating and Saving NumPy Arrays"
   ]
  },
  {
   "cell_type": "markdown",
   "id": "0373fed4",
   "metadata": {},
   "source": [
    "### Example 1.a Using a 1-D Array of Integers "
   ]
  },
  {
   "cell_type": "code",
   "execution_count": 3,
   "id": "3bb0822e",
   "metadata": {
    "scrolled": true
   },
   "outputs": [
    {
     "name": "stdout",
     "output_type": "stream",
     "text": [
      "[1 2 3 4 5]\n"
     ]
    }
   ],
   "source": [
    "# import numpy library \n",
    "import numpy as np\n",
    "\n",
    "# Create a 1D array that contains only integers \n",
    "x = np.array([1, 2, 3, 4, 5])\n",
    "\n",
    "# print the array we just created using print() command\n",
    "\n",
    "print(x)"
   ]
  },
  {
   "cell_type": "code",
   "execution_count": null,
   "id": "808af2b8",
   "metadata": {},
   "outputs": [],
   "source": [
    "# Lets print information about the array x\n",
    "\n",
    "print('x is an object of type:', type(x))\n",
    "print('The elements in x are of type:', x.dtype)\n",
    "print('x has dimensions:', x.shape)\n",
    "print('x has size:', x.size)"
   ]
  },
  {
   "cell_type": "markdown",
   "id": "a6ffab91",
   "metadata": {},
   "source": [
    "### Example 1.b Using 1-D Array of Strings"
   ]
  },
  {
   "cell_type": "code",
   "execution_count": null,
   "id": "930c14ca",
   "metadata": {
    "scrolled": true
   },
   "outputs": [],
   "source": [
    "# Create a rank of 1 array that only contains strings\n",
    "x = np.array([\"Hello\", \"World\"])\n",
    "\n",
    "# Lets print information about the array x\n",
    "\n",
    "print('x = ', x)\n",
    "print('x is an object of type:', type(x))\n",
    "print('The elements in x are of type:', x.dtype)\n",
    "print('x has dimensions:', x.shape)\n",
    "print('x has size:', x.size)"
   ]
  },
  {
   "cell_type": "markdown",
   "id": "e74b7032",
   "metadata": {},
   "source": [
    "### Example 1.c Using a 1-D Array of Int and String\n",
    "#### NumPy will assign each element the same datatype because NumPy arrays must contains elements of the same type"
   ]
  },
  {
   "cell_type": "code",
   "execution_count": null,
   "id": "8212cc9f",
   "metadata": {
    "scrolled": true
   },
   "outputs": [],
   "source": [
    "# Create a rank of 1 array from a Python list that contains integers and strings \n",
    "\n",
    "x = np.array([1, 2, 'World'])\n",
    "\n",
    "# print info about x\n",
    "\n",
    "print('x = ', x)\n",
    "print('x has {} dimensions'.format(x.shape))\n",
    "print('x is an object of type:', type(x))\n",
    "print('The elements in are of type:', x.dtype)"
   ]
  },
  {
   "cell_type": "markdown",
   "id": "0c614545",
   "metadata": {},
   "source": [
    "### Example 1.d Using a 1-D Array of Int and Float "
   ]
  },
  {
   "cell_type": "code",
   "execution_count": null,
   "id": "01282f69",
   "metadata": {},
   "outputs": [],
   "source": [
    "# Create array of 1-D that contains integers\n",
    "x = np.array([1, 2, 3])\n",
    "\n",
    "# Create array of 1-D that contains floats\n",
    "y = np.array([1.0, 2.0, 3.0])\n",
    "\n",
    "# Create array of 1-D that contains both integers and floats \n",
    "z = np.array([1, 2.5, 4])\n",
    "\n",
    "# Print data type of each arrays\n",
    "\n",
    "print('The elements in x are of type:', x.dtype)\n",
    "\n",
    "print('The elements in y are of type:', y.dtype)\n",
    "\n",
    "print('The elements in z are of type:', z.dtype)"
   ]
  },
  {
   "cell_type": "markdown",
   "id": "bd569af5",
   "metadata": {},
   "source": [
    "### Example 1.e Using a 1-D Array of Float, and specifying the datatype of each element as int64"
   ]
  },
  {
   "cell_type": "code",
   "execution_count": null,
   "id": "f6cee9ac",
   "metadata": {},
   "outputs": [],
   "source": [
    "# create an array of 1-D floats but set the dtype to int64\n",
    "x = np.array([1.5, 2.2, 3.7, 4.0, 5.9], dtype = np.int64)\n",
    "\n",
    "# Print the dtype of x \n",
    "print('x = ', x)\n",
    "print(' The elements in x are of type: ', x.dtype)"
   ]
  },
  {
   "cell_type": "markdown",
   "id": "39fe64a6",
   "metadata": {},
   "source": [
    "## Example 2- Using a 2-D Array "
   ]
  },
  {
   "cell_type": "code",
   "execution_count": null,
   "id": "9aa5cbaa",
   "metadata": {},
   "outputs": [],
   "source": [
    "# Create a rank of 2-D array that only contains integers\n",
    "\n",
    "Y = np.array([[1, 2, 3], [4, 5, 6], [7, 8, 9], [10, 11, 12]])\n",
    "\n",
    "# Print information about Y\n",
    "print('Y = \\n', Y)\n",
    "print('Y is an object of type:', type(Y))\n",
    "print('The elements in Y are of type:', Y.dtype)\n",
    "print('Y has dimensions:', Y.shape)\n",
    "print('Y has a total of {} elements'.format(Y.size))"
   ]
  },
  {
   "cell_type": "markdown",
   "id": "a4a557b3",
   "metadata": {},
   "source": [
    "## Example 3- Save the NumPy array to a File "
   ]
  },
  {
   "cell_type": "code",
   "execution_count": null,
   "id": "421a671a",
   "metadata": {},
   "outputs": [],
   "source": [
    "# First create an array of 1-D\n",
    "x = np.array([1, 2, 3, 4, 5])\n",
    "\n",
    "# Save x into the current directory as \n",
    "np.save('my_array', x)"
   ]
  },
  {
   "cell_type": "code",
   "execution_count": null,
   "id": "0a159b82",
   "metadata": {},
   "outputs": [],
   "source": [
    "# Load the saved array from our current directory into variable y \n",
    "y = np.load('my_array.npy')\n",
    "\n",
    "# Print info about y\n",
    "\n",
    "print('y = \\n', y)\n",
    "print('y is an object of type:', type(y))\n",
    "print('The elements in y are of type:', y.dtype)\n"
   ]
  },
  {
   "cell_type": "markdown",
   "id": "fdcf84b8",
   "metadata": {},
   "source": [
    "https://numpy.org/devdocs/user/absolute_beginners.html#how-to-create-a-basic-array"
   ]
  },
  {
   "cell_type": "markdown",
   "id": "8d88d0f4",
   "metadata": {},
   "source": [
    "# 2. Using Built-in Functions to Create nd-arrays\n"
   ]
  },
  {
   "cell_type": "markdown",
   "id": "23b35f37",
   "metadata": {},
   "source": [
    "### Example 1. Create a NumPy array of zeros with a desired shape"
   ]
  },
  {
   "cell_type": "code",
   "execution_count": null,
   "id": "5217a771",
   "metadata": {},
   "outputs": [],
   "source": [
    "# Create a 3x4 3d array full of zeros \n",
    "\n",
    "X = np.zeros((3, 4), dtype = int)\n",
    "\n",
    "# Print info about X \n",
    "print(X)\n",
    "\n",
    "print('X has dimensions:', X.shape)\n",
    "print('X is an object of type:', type(X))\n",
    "print('The elements in X are of type:', X.dtype)"
   ]
  },
  {
   "cell_type": "markdown",
   "id": "1ea5e523",
   "metadata": {},
   "source": [
    "### Example 2. Create a NumPy array of ones with a desired shape"
   ]
  },
  {
   "cell_type": "code",
   "execution_count": null,
   "id": "c462f304",
   "metadata": {},
   "outputs": [],
   "source": [
    "X = np.ones((3, 2))\n",
    "# defualt data type is float\n",
    "# Print info about X \n",
    "print(X)\n",
    "\n",
    "print('X has dimensions:', X.shape)\n",
    "print('X is an object of type:', type(X))\n",
    "print('The elements in X are of type:', X.dtype)"
   ]
  },
  {
   "cell_type": "markdown",
   "id": "9c3e2481",
   "metadata": {},
   "source": [
    "### Example 3. Create a NumPy array of constants"
   ]
  },
  {
   "cell_type": "code",
   "execution_count": null,
   "id": "0e7c9232",
   "metadata": {
    "scrolled": true
   },
   "outputs": [],
   "source": [
    "# Create a 2x3 ndarrays full of six\n",
    "X = np.full((2,3), 5)\n",
    "\n",
    "# Print info about X \n",
    "print(X)\n",
    "\n",
    "print('X has dimensions:', X.shape)\n",
    "print('X is an object of type:', type(X))\n",
    "print('The elements in X are of type:', X.dtype)"
   ]
  },
  {
   "cell_type": "markdown",
   "id": "0a2b7a32",
   "metadata": {},
   "source": [
    "### Example 4. Create a NumPy array of Identity Matrix\n"
   ]
  },
  {
   "cell_type": "code",
   "execution_count": null,
   "id": "91580145",
   "metadata": {},
   "outputs": [],
   "source": [
    "# Create a 5x5 Identity matrix\n",
    "X = np.eye(5, dtype = np.int64)\n",
    "\n",
    "# Print info about X \n",
    "print(X)\n",
    "\n",
    "print('X has dimensions:', X.shape)\n",
    "print('X is an object of type:', type(X))\n",
    "print('The elements in X are of type:', X.dtype)"
   ]
  },
  {
   "cell_type": "markdown",
   "id": "e9feec17",
   "metadata": {},
   "source": [
    "### Example 5. Create a NumPy array of constant diagonal Matrix"
   ]
  },
  {
   "cell_type": "code",
   "execution_count": null,
   "id": "400bb1df",
   "metadata": {},
   "outputs": [],
   "source": [
    "# Create a 4 x 4 diagonal matrix that contains the given numbers\n",
    "X = np.diag([10, 20, 30, 50])\n",
    "\n",
    "# Print info about X \n",
    "print(X)\n",
    "\n",
    "print('X has dimensions:', X.shape)\n",
    "print('X is an object of type:', type(X))\n",
    "print('The elements in X are of type:', X.dtype)"
   ]
  },
  {
   "cell_type": "markdown",
   "id": "f03ba3fe",
   "metadata": {},
   "source": [
    "### Example 6. Create a Numpy array of evenly spaced values in a given range, `using arange(stop_val)`"
   ]
  },
  {
   "cell_type": "code",
   "execution_count": null,
   "id": "6edde687",
   "metadata": {},
   "outputs": [],
   "source": [
    "# We create a rank 1 ndarray that has sequential integers from 0 to 9\n",
    "x = np.arange(10)\n",
    "\n",
    "# Print info about x \n",
    "print(x)\n",
    "\n",
    "print('x has dimensions:', x.shape)\n",
    "print('x is an object of type:', type(x))\n",
    "print('The elements in x are of type:', x.dtype)"
   ]
  },
  {
   "cell_type": "markdown",
   "id": "acc64af3",
   "metadata": {},
   "source": [
    "### Example 7. Create a Numpy array using  `arange(start_val, stop_val)`"
   ]
  },
  {
   "cell_type": "code",
   "execution_count": null,
   "id": "0c42a92b",
   "metadata": {},
   "outputs": [],
   "source": [
    "x = np.arange(4, 10)\n",
    "# Print info about x \n",
    "print(x)\n",
    "\n",
    "print('x has dimensions:', x.shape)\n",
    "print('x is an object of type:', type(x))\n",
    "print('The elements in x are of type:', x.dtype)\n"
   ]
  },
  {
   "cell_type": "markdown",
   "id": "3e81a23a",
   "metadata": {},
   "source": [
    "#### Example 8. Create a Numpy array using `arange(start_val, stop_val, step_size)`"
   ]
  },
  {
   "cell_type": "code",
   "execution_count": null,
   "id": "61b85794",
   "metadata": {},
   "outputs": [],
   "source": [
    "# We create a rank 1 ndarray that has evenly spaced integers from 1 to 13 in steps of 3.\n",
    "x = np.arange(1,15,3)\n",
    "\n",
    "# We print the ndarray\n",
    "print()\n",
    "print('x = ', x)\n",
    "print()\n",
    "\n",
    "# We print information about the ndarray\n",
    "print('x has dimensions:', x.shape)\n",
    "print('x is an object of type:', type(x))\n",
    "print('The elements in x are of type:', x.dtype) "
   ]
  },
  {
   "cell_type": "markdown",
   "id": "ce31d097",
   "metadata": {},
   "source": [
    "#### Example 9. Create a Numpy array using `linspace(start, stop, n)`, with `stop` inclusive.\n",
    "See the all possible arguments in the syntax [here](https://numpy.org/doc/stable/reference/generated/numpy.linspace.html) "
   ]
  },
  {
   "cell_type": "code",
   "execution_count": null,
   "id": "1a771ce5",
   "metadata": {},
   "outputs": [],
   "source": [
    "# We create a rank 1 ndarray that has 10 integers evenly spaced between 0 and 25.\n",
    "x = np.linspace(0,25,10)\n",
    "\n",
    "# We print the ndarray\n",
    "print()\n",
    "print('x = \\n', x)\n",
    "print()\n",
    "\n",
    "# We print information about the ndarray\n",
    "print('x has dimensions:', x.shape)\n",
    "print('x is an object of type:', type(x))\n",
    "print('The elements in x are of type:', x.dtype) "
   ]
  },
  {
   "cell_type": "markdown",
   "id": "1b09c9ed",
   "metadata": {},
   "source": [
    "#### Example 10. Create a Numpy array using `linspace(start, stop, n)`, with `stop` excluded."
   ]
  },
  {
   "cell_type": "code",
   "execution_count": null,
   "id": "5927a3c5",
   "metadata": {},
   "outputs": [],
   "source": [
    "# We create a rank 1 ndarray that has 10 integers evenly spaced between 0 and 25,\n",
    "# with 25 excluded.\n",
    "x = np.linspace(0, 25, 10, endpoint = False)\n",
    "\n",
    "# We print the ndarray\n",
    "print()\n",
    "print('x = ', x)\n",
    "print()\n",
    "\n",
    "# We print information about the ndarray\n",
    "print('x has dimensions:', x.shape)\n",
    "print('x is an object of type:', type(x))\n",
    "print('The elements in x are of type:', x.dtype) "
   ]
  },
  {
   "cell_type": "markdown",
   "id": "e510057f",
   "metadata": {},
   "source": [
    "#### Example 11. Create a Numpy array by feeding the output of `arange()` function to the  `reshape()` function.\n",
    "Here, `arange()` function will give you a 1-D array, whereas the `reshape()` function will convert that 1-D array into a  desired shape. **Remember, that the  `size` of the final output must be as same as the `size` of the initial  1-D array."
   ]
  },
  {
   "cell_type": "code",
   "execution_count": null,
   "id": "930b4581",
   "metadata": {},
   "outputs": [],
   "source": [
    "# We create a rank 1 ndarray with sequential integers from 0 to 19\n",
    "x = np.arange(20)\n",
    "\n",
    "# We print x\n",
    "print()\n",
    "print('Original x = ', x)\n",
    "print()\n",
    "\n",
    "# We reshape x into a 4 x 5 ndarray \n",
    "x = np.reshape(x, (4,5))\n",
    "\n",
    "# We print the reshaped x\n",
    "print()\n",
    "print('Reshaped x = \\n', x)\n",
    "print()\n",
    "\n",
    "# We print information about the reshaped x\n",
    "print('x has dimensions:', x.shape)\n",
    "print('x is an object of type:', type(x))\n",
    "print('The elements in x are of type:', x.dtype) "
   ]
  },
  {
   "cell_type": "markdown",
   "id": "b90612f2",
   "metadata": {},
   "source": [
    "#### Example 12. Create a Numpy array by calling the `reshape()` function from the output of `arange()` function.\n",
    "Notice the change in the arguments of `reshape()`"
   ]
  },
  {
   "cell_type": "code",
   "execution_count": null,
   "id": "4ee5fb3c",
   "metadata": {},
   "outputs": [],
   "source": [
    "# We create a a rank 1 ndarray with sequential integers from 0 to 19 and\n",
    "# reshape it to a 4 x 5 array \n",
    "Y = np.arange(20).reshape(4,5)\n",
    "\n",
    "# We print Y\n",
    "print()\n",
    "print('Y = \\n', Y)\n",
    "print()\n",
    "\n",
    "# We print information about Y\n",
    "print('Y has dimensions:', Y.shape)\n",
    "print('Y is an object of type:', type(Y))\n",
    "print('The elements in Y are of type:', Y.dtype) "
   ]
  },
  {
   "cell_type": "markdown",
   "id": "6dcb48bb",
   "metadata": {},
   "source": [
    "#### Example 13. Create a rank 2 Numpy array by using the `reshape()` function."
   ]
  },
  {
   "cell_type": "code",
   "execution_count": null,
   "id": "a659f319",
   "metadata": {
    "scrolled": true
   },
   "outputs": [],
   "source": [
    "# We create a rank 1 ndarray with 10 integers evenly spaced between 0 and 50,\n",
    "# with 50 excluded. We then reshape it to a 5 x 2 ndarray\n",
    "X = np.linspace(0, 50, 10, endpoint=False).reshape(5,2)\n",
    "\n",
    "# We print X\n",
    "print()\n",
    "print('X = \\n', X)\n",
    "print()\n",
    "\n",
    "# We print information about X\n",
    "print('X has dimensions:', X.shape)\n",
    "print('X is an object of type:', type(X))\n",
    "print('The elements in X are of type:', X.dtype)"
   ]
  },
  {
   "cell_type": "markdown",
   "id": "595b3e50",
   "metadata": {},
   "source": [
    "#### Example 14. Create a Numpy array using the `numpy.random.random()` function. "
   ]
  },
  {
   "cell_type": "code",
   "execution_count": null,
   "id": "3b93b09e",
   "metadata": {},
   "outputs": [],
   "source": [
    "# We create a 3 x 3 ndarray with random floats in the half-open interval [0.0, 1.0).\n",
    "X = np.random.random((3, 3))\n",
    "\n",
    "# We print X\n",
    "print()\n",
    "print('X = \\n', X)\n",
    "print()\n",
    "\n",
    "# We print information about X\n",
    "print('X has dimensions:', X.shape)\n",
    "print('X is an object of type:', type(X))\n",
    "print('The elements in x are of type:', X.dtype)"
   ]
  },
  {
   "cell_type": "markdown",
   "id": "a5a429c5",
   "metadata": {},
   "source": [
    "#### Example 15. Create a Numpy array  using the `numpy.random.randint()` function. "
   ]
  },
  {
   "cell_type": "code",
   "execution_count": null,
   "id": "7e7d8238",
   "metadata": {},
   "outputs": [],
   "source": [
    "# We create a 3 x 2 ndarray with random integers in the half-open interval [4, 15).\n",
    "X = np.random.randint(4, 15, size = (3,2))\n",
    "\n",
    "# We print X\n",
    "print()\n",
    "print('X = \\n', X)\n",
    "print()\n",
    "\n",
    "# We print information about X\n",
    "print('X has dimensions:', X.shape)\n",
    "print('X is an object of type:', type(X))\n",
    "print('The elements in X are of type:', X.dtype)"
   ]
  },
  {
   "cell_type": "markdown",
   "id": "7bdeb8a7",
   "metadata": {},
   "source": [
    "#### Example 16. Create a Numpy array of \"Normal\" distributed random numbers, using the `numpy.random.normal()` function. "
   ]
  },
  {
   "cell_type": "code",
   "execution_count": null,
   "id": "9a8f46b0",
   "metadata": {},
   "outputs": [],
   "source": [
    "# We create a 1000 x 1000 ndarray of random floats drawn from normal (Gaussian) distribution\n",
    "# with a mean of zero and a standard deviation of 0.1.\n",
    "X = np.random.normal(0, 0.1, size = (1000, 1000))\n",
    "# We print X\n",
    "print()\n",
    "print('X = \\n', X)\n",
    "print()\n",
    "\n",
    "# We print information about X\n",
    "print('X has dimensions:', X.shape)\n",
    "print('X is an object of type:', type(X))\n",
    "print('The elements in X are of type:', X.dtype)\n",
    "print('The elements in X have a mean of:', X.mean())\n",
    "print('The maximum value in X is:', X.max())\n",
    "print('The minimum value in X is:', X.min())\n",
    "print('X has', (X < 0).sum(), 'negative numbers')\n",
    "print('X has', (X > 0).sum(), 'positive numbers')\n"
   ]
  },
  {
   "cell_type": "markdown",
   "id": "8916ca53",
   "metadata": {},
   "source": [
    "# 3. Accessing, Deleting, and Inserting Elements Into N-D Arrays "
   ]
  },
  {
   "cell_type": "markdown",
   "id": "c27f9b07",
   "metadata": {},
   "source": [
    "### Example1. Access individual elements of 1-D Array "
   ]
  },
  {
   "cell_type": "code",
   "execution_count": null,
   "id": "c213d1ca",
   "metadata": {},
   "outputs": [],
   "source": [
    "# We create a rank 1 ndarray that contains integers from 1 to 5\n",
    "x = np.array([1, 2, 3, 4, 5])\n",
    "\n",
    "# Print x\n",
    "print('x:', x)\n",
    "\n",
    "# Let's access some elements with positive indices \n",
    "print('This is First Element in x:', x[0])\n",
    "print('This is Second Element in x:', x[1])\n",
    "print('This is Fifth Element in x:', x[4])\n",
    "\n",
    "# Access the same element with negative indices \n",
    "\n",
    "print('This is First Element in x:', x[-5])\n",
    "print('This is Second  Element in x:', x[-4])\n",
    "print('This is Fifth Element in x:', x[-1])"
   ]
  },
  {
   "cell_type": "markdown",
   "id": "70251bad",
   "metadata": {},
   "source": [
    "### Example 2. Modify an element of 1-D array "
   ]
  },
  {
   "cell_type": "code",
   "execution_count": null,
   "id": "c79082fe",
   "metadata": {},
   "outputs": [],
   "source": [
    "# Create an array that contains integers from 1 to 5 \n",
    "x = np.array([1, 2, 3, 4, 5])\n",
    "\n",
    "# Print the original x \n",
    "print('Original:\\n x = ', x)\n",
    "\n",
    "# Change the 4th element in x from 4 to 20 \n",
    "\n",
    "x[3] = 20 \n",
    "\n",
    "# Print the modified x \n",
    "print('Modified: \\n x =', x)"
   ]
  },
  {
   "cell_type": "markdown",
   "id": "5cde142b",
   "metadata": {},
   "source": [
    "### Example 3: Access individual elements of 2-D array "
   ]
  },
  {
   "cell_type": "code",
   "execution_count": null,
   "id": "1db8152a",
   "metadata": {},
   "outputs": [],
   "source": [
    "# Create a 3 x 3 rank 2 array that contains integers from 1 to 10\n",
    "X = np.array([[1, 2, 3], [4, 5, 6], [7, 8, 9]])\n",
    "\n",
    "# Print x\n",
    "print('X = \\n', X)\n",
    "\n",
    "# Let's access some elements in X\n",
    "\n",
    "print('This is (0, 0) Element in X:', X[0,0])\n",
    "print('This is (0, 1) Element in X:', X[0,1])\n",
    "print('This is (2, 2) Element in X:', X[2,2])"
   ]
  },
  {
   "cell_type": "markdown",
   "id": "1508764b",
   "metadata": {},
   "source": [
    "### Example 4: Modify an element of 2-D array"
   ]
  },
  {
   "cell_type": "code",
   "execution_count": null,
   "id": "1df54779",
   "metadata": {},
   "outputs": [],
   "source": [
    "# Create a 3 x 3 rank 2 array that contains integers from 1 to 10\n",
    "X = np.array([[1, 2, 3], [4, 5, 6], [7, 8, 9]])\n",
    "\n",
    "# Print x\n",
    "print('Original: \\n X = \\n', X)\n",
    "\n",
    "# Change the (0,0) element in X from 1 to 20 \n",
    "\n",
    "X[0, 0] = 20 \n",
    "print(\"Modified: \\n X =\", X)"
   ]
  },
  {
   "cell_type": "markdown",
   "id": "193defe7",
   "metadata": {},
   "source": [
    "### Example 5: Delete elements "
   ]
  },
  {
   "cell_type": "code",
   "execution_count": null,
   "id": "f5c8d4c9",
   "metadata": {
    "scrolled": true
   },
   "outputs": [],
   "source": [
    "# Create a rank 1 array\n",
    "x = np.array([1, 2, 3, 4, 5])\n",
    "\n",
    "# Create a rank 2 array\n",
    "\n",
    "Y = np.array([[1, 2, 3], [4, 5, 6], [7, 8, 9] ])\n",
    "\n",
    "# Print x\n",
    "print(x)\n",
    "\n",
    "# Let's delete the first and last element of x \n",
    "x = np.delete(x, [0, 4])\n",
    "\n",
    "# Print modified x\n",
    "print('Modified x = ', x)\n",
    "\n",
    "# Print Y\n",
    "print('Original Y: \\n', Y)\n",
    "\n",
    "# Let's delete the first row of Y\n",
    "\n",
    "W = np.delete(Y, 0, axis=0)\n",
    "\n",
    "# Let's delete the first and last column of Y\n",
    "\n",
    "V = np.delete(Y, [0, 2], axis=1)\n",
    "\n",
    "# Print W and V\n",
    "print('W = \\n', W)\n",
    "print()\n",
    "print('V = \\n', V)"
   ]
  },
  {
   "cell_type": "markdown",
   "id": "37f56b7d",
   "metadata": {},
   "source": [
    "### Example 6. Append elements"
   ]
  },
  {
   "cell_type": "code",
   "execution_count": null,
   "id": "6f4f62e3",
   "metadata": {},
   "outputs": [],
   "source": [
    "# We create a rank 1 ndarray \n",
    "x = np.array([1, 2, 3, 4, 5])\n",
    "\n",
    "# We create a rank 2 ndarray \n",
    "Y = np.array([[1,2,3],[4,5,6]])\n",
    "\n",
    "# We print x\n",
    "print()\n",
    "print('Original x = ', x)\n",
    "\n",
    "# We append the integer 6 to x\n",
    "x = np.append(x, 6)\n",
    "\n",
    "# We print x\n",
    "print()\n",
    "print('x = ', x)\n",
    "\n",
    "# We append the integer 7 and 8 to x\n",
    "x = np.append(x, [7, 8])\n",
    "\n",
    "# We print x\n",
    "print()\n",
    "print('x = ', x)\n",
    "\n",
    "# We print Y\n",
    "print()\n",
    "print('Original Y = \\n', Y)\n",
    "\n",
    "# We append a new row containing 7,8,9 to y\n",
    "v = np.append(Y, [[7, 8, 9]], axis = 0)\n",
    "\n",
    "# We append a new column containing 9 and 10 to y\n",
    "q = np.append(Y, [[9],[10]], axis = 1)\n",
    "\n",
    "# We print v\n",
    "print()\n",
    "print('v = \\n', v)\n",
    "\n",
    "# We print q\n",
    "print()\n",
    "print('q = \\n', q)"
   ]
  },
  {
   "cell_type": "markdown",
   "id": "d66cb454",
   "metadata": {},
   "source": [
    "### Example 7. Insert elements"
   ]
  },
  {
   "cell_type": "code",
   "execution_count": null,
   "id": "2c6edf85",
   "metadata": {},
   "outputs": [],
   "source": [
    "# We create a rank 1 ndarray \n",
    "x = np.array([1, 2, 5, 6, 7])\n",
    "\n",
    "# We create a rank 2 ndarray \n",
    "Y = np.array([[1,2,3],[7,8,9]])\n",
    "\n",
    "# We print x\n",
    "print()\n",
    "print('Original x = ', x)\n",
    "\n",
    "# We insert the integer 3 and 4 between 2 and 5 in x. \n",
    "x = np.insert(x, 2, [3, 4])\n",
    "\n",
    "# We print x with the inserted elements\n",
    "print()\n",
    "print('x = ', x)\n",
    "\n",
    "# We print Y\n",
    "print()\n",
    "print('Original Y = \\n', Y)\n",
    "\n",
    "# We insert a row between the first and last row of y\n",
    "w = np.insert(Y,1, [4, 5, 6], axis = 0)\n",
    "\n",
    "# We insert a column full of 5s between the first and second column of y\n",
    "v =np.insert(Y, 1, [5], axis=1)\n",
    "\n",
    "# We print w\n",
    "print()\n",
    "print('w = \\n', w)\n",
    "\n",
    "# We print v\n",
    "print()\n",
    "print('v = \\n', v)"
   ]
  },
  {
   "cell_type": "markdown",
   "id": "e28dd788",
   "metadata": {},
   "source": [
    "### Example 8 numpy.hstack and numpy.vstack"
   ]
  },
  {
   "cell_type": "code",
   "execution_count": null,
   "id": "f282e3a9",
   "metadata": {
    "scrolled": true
   },
   "outputs": [],
   "source": [
    "# We create a rank 1 ndarray \n",
    "x = np.array([1,2])\n",
    "\n",
    "# We create a rank 2 ndarray \n",
    "Y = np.array([[3,4],[5,6]])\n",
    "\n",
    "# We print x\n",
    "print()\n",
    "print('x = ', x)\n",
    "\n",
    "# We print Y\n",
    "print()\n",
    "print('Y = \\n', Y)\n",
    "\n",
    "# We stack x on top of Y\n",
    "z = np.vstack((x, Y))\n",
    "\n",
    "# We stack x on the right of Y. We need to reshape x in order to stack it on the right of Y. \n",
    "w = np.hstack((Y,x.reshape(2,1)))\n",
    "\n",
    "# We print z\n",
    "print()\n",
    "print('z = \\n', z)\n",
    "\n",
    "# We print w\n",
    "print()\n",
    "print('w = \\n', w)"
   ]
  },
  {
   "cell_type": "markdown",
   "id": "68844c1b",
   "metadata": {},
   "source": [
    "# 4. Slicing ndarrays"
   ]
  },
  {
   "cell_type": "markdown",
   "id": "b9955fe9",
   "metadata": {},
   "source": [
    "### Example 1. Slicing in a 2-D ndarray"
   ]
  },
  {
   "cell_type": "code",
   "execution_count": null,
   "id": "44e26235",
   "metadata": {},
   "outputs": [],
   "source": [
    "# We create a 4 x 5 ndarray that contains integers from 0 to 19\n",
    "X = np.arange(20).reshape(4, 5)\n",
    "\n",
    "# We print X\n",
    "print()\n",
    "print('X = \\n', X)\n",
    "print()\n",
    "\n",
    "# We select all the elements that are in the 2nd through 4th rows and in the 3rd to 5th columns\n",
    "Z = X[1:4, 2:5]\n",
    "\n",
    "# We print Z\n",
    "print('Z = \\n', Z)\n",
    "\n",
    "# We can select the same elements as above using method 2\n",
    "W = X[1: , 2:5]\n",
    "\n",
    "# We print W\n",
    "print()\n",
    "print('W = \\n', W)\n",
    "\n",
    "# We select all the elements that are in the 1st through 3rd rows and in the 3rd to 4th columns\n",
    "Y = X[:3, 2:5]\n",
    "\n",
    "# We print Y\n",
    "print()\n",
    "print('Y = \\n', Y)\n",
    "\n",
    "# We select all the elements in the 3rd row\n",
    "v = X[2, : ]\n",
    "\n",
    "# We print v\n",
    "print()\n",
    "print('v = ', v)\n",
    "\n",
    "# We select all the elements in the 3rd column\n",
    "q = X[: , 2]\n",
    "\n",
    "# We print q\n",
    "print()\n",
    "print('q = ', q)\n",
    "\n",
    "# We select all the elements in the 3rd column but return a rank 2 ndarray\n",
    "R = X[:, 2:3]\n",
    "\n",
    "# We print R\n",
    "print()\n",
    "print('R = \\n', R)"
   ]
  },
  {
   "cell_type": "markdown",
   "id": "e9f0f6b7",
   "metadata": {},
   "source": [
    "### Example 2. Slicing and editing elements in a 2-D ndarray"
   ]
  },
  {
   "cell_type": "code",
   "execution_count": null,
   "id": "ac0843db",
   "metadata": {},
   "outputs": [],
   "source": [
    "# We create a 4 x 5 ndarray that contains integers from 0 to 19\n",
    "X = np.arange(20).reshape(4, 5)\n",
    "\n",
    "# We print X\n",
    "print()\n",
    "print('X = \\n', X)\n",
    "print()\n",
    "\n",
    "# We select all the elements that are in the 2nd through 4th rows and in the 3rd to 4th columns\n",
    "Z = X[1:4,2:5]\n",
    "\n",
    "# We print Z\n",
    "print()\n",
    "print('Z = \\n', Z)\n",
    "print()\n",
    "\n",
    "# We change the last element in Z to 555\n",
    "Z[2,2] = 555\n",
    "\n",
    "# We print X\n",
    "print()\n",
    "print('X = \\n', X)\n",
    "print()"
   ]
  },
  {
   "cell_type": "markdown",
   "id": "4c21f1db",
   "metadata": {},
   "source": [
    "### Example 3. Demonstrate the copy() function"
   ]
  },
  {
   "cell_type": "code",
   "execution_count": null,
   "id": "a9474a77",
   "metadata": {
    "scrolled": true
   },
   "outputs": [],
   "source": [
    "# We create a 4 x 5 ndarray that contains integers from 0 to 19\n",
    "X = np.arange(20).reshape(4, 5)\n",
    "\n",
    "# We print X\n",
    "print()\n",
    "print('X = \\n', X)\n",
    "print()\n",
    "\n",
    "# create a copy of the slice using the np.copy() function\n",
    "Z = np.copy(X[1:4,2:5])\n",
    "\n",
    "#  create a copy of the slice using the copy as a method\n",
    "W = X[1:4,2:5].copy()\n",
    "\n",
    "# We change the last element in Z to 555\n",
    "Z[2,2] = 555\n",
    "\n",
    "# We change the last element in W to 444\n",
    "W[2,2] = 444\n",
    "\n",
    "# We print X\n",
    "print()\n",
    "print('X = \\n', X)\n",
    "\n",
    "# We print Z\n",
    "print()\n",
    "print('Z = \\n', Z)\n",
    "\n",
    "# We print W\n",
    "print()\n",
    "print('W = \\n', W)"
   ]
  },
  {
   "cell_type": "markdown",
   "id": "77676eab",
   "metadata": {},
   "source": [
    "#### Example 4 a. Use an array as indices to either make slices, select, or change elements"
   ]
  },
  {
   "cell_type": "code",
   "execution_count": null,
   "id": "ee1fb697",
   "metadata": {},
   "outputs": [],
   "source": [
    "# We create a 4 x 5 ndarray that contains integers from 0 to 19\n",
    "X = np.arange(20).reshape(4, 5)\n",
    "\n",
    "# We create a rank 1 ndarray that will serve as indices to select elements from X\n",
    "indices = np.array([1,3])\n",
    "\n",
    "# We print X\n",
    "print()\n",
    "print('X = \\n', X)\n",
    "print()\n",
    "\n",
    "# We print indices\n",
    "print('indices = ', indices)\n",
    "print()\n",
    "\n",
    "# We use the indices ndarray to select the 2nd and 4th row of X\n",
    "Y = X[indices,:]\n",
    "\n",
    "# We use the indices ndarray to select the 2nd and 4th column of X\n",
    "Z = X[:, indices]\n",
    "\n",
    "# We print Y\n",
    "print()\n",
    "print('Y = \\n', Y)\n",
    "\n",
    "# We print Z\n",
    "print()\n",
    "print('Z = \\n', Z)"
   ]
  },
  {
   "cell_type": "markdown",
   "id": "d9e495d0",
   "metadata": {},
   "source": [
    "#### Example 4 b. Use an array as indices to extract specific rows from a rank 2 ndarray"
   ]
  },
  {
   "cell_type": "code",
   "execution_count": null,
   "id": "dcf77cb8",
   "metadata": {
    "scrolled": true
   },
   "outputs": [],
   "source": [
    "import numpy as np\n",
    "# Let's create a rank 2 ndarray\n",
    "X = np.random.randint(1,20, size=(50,5))\n",
    "print(\"Shape of X is: \", X.shape)\n",
    "\n",
    "# Create a rank 1 ndarray that contains a randomly chosen 10 values between `0` to `len(X)` (50)\n",
    "# The row_indices would represent the indices of rows of X\n",
    "row_indices = np.random.randint(0,50, size=10)\n",
    "print(\"Random 10 indices are: \", row_indices)\n",
    "\n",
    "# To Do 1 - Print those rows of X whose indices are represented by entire row_indices ndarray\n",
    "# Hint - Use the row_indices ndarray to select specified rows of X\n",
    "X_subset = X[row_indices, :]\n",
    "print(X_subset)\n",
    "\n",
    "# To Do 2 - Print those rows of X whose indices are present in row_indices[4:8]\n",
    "X_subset = X[row_indices[4:8], :]\n",
    "print(X_subset)"
   ]
  },
  {
   "cell_type": "markdown",
   "id": "3fdc1602",
   "metadata": {},
   "source": [
    "#### Example 5. Demonstrate the diag() function"
   ]
  },
  {
   "cell_type": "code",
   "execution_count": null,
   "id": "513a0759",
   "metadata": {
    "scrolled": true
   },
   "outputs": [],
   "source": [
    "# We create a 4 x 5 ndarray that contains integers from 0 to 24\n",
    "X = np.arange(25).reshape(5, 5)\n",
    "\n",
    "# We print X\n",
    "print()\n",
    "print('X = \\n', X)\n",
    "print()\n",
    "\n",
    "# We print the elements in the main diagonal of X\n",
    "print('z =', np.diag(X))\n",
    "print()\n",
    "\n",
    "# We print the elements above the main diagonal of X\n",
    "print('y =', np.diag(X, k=1))\n",
    "print()\n",
    "\n",
    "# We print the elements below the main diagonal of X\n",
    "print('w = ', np.diag(X, k=-1))"
   ]
  },
  {
   "cell_type": "markdown",
   "id": "a906c231",
   "metadata": {},
   "source": [
    "#### Example 6. Demonstrate the unique() function"
   ]
  },
  {
   "cell_type": "code",
   "execution_count": null,
   "id": "dba74954",
   "metadata": {
    "scrolled": true
   },
   "outputs": [],
   "source": [
    "# Create 3 x 3 ndarray with repeated values\n",
    "X = np.array([[1,2,3],[5,2,8],[1,2,3]])\n",
    "\n",
    "# We print X\n",
    "print()\n",
    "print('X = \\n', X)\n",
    "print()\n",
    "\n",
    "# We print the unique elements of X \n",
    "print('The unique elements in X are:',np.unique(X))"
   ]
  },
  {
   "cell_type": "markdown",
   "id": "aac67944",
   "metadata": {},
   "source": [
    "# 4. Boolean Indexing, Set Operations, and Sorting"
   ]
  },
  {
   "cell_type": "markdown",
   "id": "6c128f19",
   "metadata": {},
   "source": [
    "### Example 1. Boolean Indexing"
   ]
  },
  {
   "cell_type": "code",
   "execution_count": null,
   "id": "968b2dc6",
   "metadata": {},
   "outputs": [],
   "source": [
    "# Create a 5 x 5 ndarray that contains integers from 0 to 24\n",
    "\n",
    "X = np.arange(25).reshape(5, 5)\n",
    "\n",
    "# print X\n",
    "print(X)\n",
    "\n",
    "# We use Boolean indexing to select elements in X:\n",
    "\n",
    "print('The elements in X that are greater than 10:', X[X > 10])\n",
    "print('The elements in X that are less than or equal to 7:', X[X<=7])\n",
    "print('The elements in X that are between 10 and 17:', X[(X>10) & (X < 17)])\n",
    "\n",
    "# We use Boolean indexing to assign the elements that are between 10 and 17 the value of -1 \n",
    "\n",
    "X[(X > 10) & (X < 17)] = -1\n",
    "\n",
    "# print the new X\n",
    "print('X = \\n', X)"
   ]
  },
  {
   "cell_type": "markdown",
   "id": "0bf9f5ac",
   "metadata": {},
   "source": [
    "### Example 2: Set operations"
   ]
  },
  {
   "cell_type": "code",
   "execution_count": null,
   "id": "be130fb7",
   "metadata": {
    "scrolled": true
   },
   "outputs": [],
   "source": [
    "# Create a rank 1 ndarray\n",
    "x = np.array([1, 2, 3, 4, 5])\n",
    "\n",
    "# Create another ndarray of rank 1\n",
    "\n",
    "y = np.array([6, 7, 2, 8, 4])\n",
    "\n",
    "# print x\n",
    "print('x= ', x)\n",
    "print()\n",
    "\n",
    "print('y= ', y)\n",
    "\n",
    "print()\n",
    "\n",
    "# Set operations to compare x and y:\n",
    "\n",
    "print('The elements that are both in x and y:', np.intersect1d(x,y))\n",
    "print(' The elements that are in x that are not in y:', np.setdiff1d(x,y))\n",
    "print('All the elements of x and y:', np.union1d(x,y))\n"
   ]
  },
  {
   "cell_type": "markdown",
   "id": "55e12197",
   "metadata": {},
   "source": [
    "### Example 3: Sort arrays using `sort()` function"
   ]
  },
  {
   "cell_type": "code",
   "execution_count": null,
   "id": "e28b65ce",
   "metadata": {
    "scrolled": true
   },
   "outputs": [],
   "source": [
    "# Create an unsorted rank 1 ndarray\n",
    "\n",
    "x = np.random.randint(1, 11, size = (10,))\n",
    "# print x\n",
    "print('Original x = ', x)\n",
    "\n",
    "# Let's sort x and print the sorted array using sort as a function.\n",
    "print('Sorted x (out of place):', np.sort(x))\n",
    "print()\n",
    "# When we sort out of place the orginal array remains intact. To see this we print x again\n",
    "print('x after sorting:', x)\n",
    "print()\n",
    "# Returns the sorted unique elements of an array \n",
    "print('x after selecting the unique value:', np.unique(x))\n"
   ]
  },
  {
   "cell_type": "markdown",
   "id": "a136631f",
   "metadata": {},
   "source": [
    "### Example 4: Sort rank 1 arrays using `sort()` method"
   ]
  },
  {
   "cell_type": "code",
   "execution_count": null,
   "id": "bd58329f",
   "metadata": {
    "scrolled": true
   },
   "outputs": [],
   "source": [
    "# Create an unsorted rank 1 ndarray\n",
    "x = np.random.randint(1,11, size=(10,))\n",
    "# print x\n",
    "print('Original x= ', x)\n",
    "\n",
    "# Then sort x and print the sorted array using sort as a method\n",
    "x.sort()\n",
    "\n",
    "# print x\n",
    "print('x after sorting:', x)"
   ]
  },
  {
   "cell_type": "markdown",
   "id": "a331e68c",
   "metadata": {},
   "source": [
    "### Example 5: Sort rank-2 arrays by specific axis"
   ]
  },
  {
   "cell_type": "code",
   "execution_count": null,
   "id": "42554e34",
   "metadata": {
    "scrolled": true
   },
   "outputs": [],
   "source": [
    "# Create an unsorted rank 2 ndarray\n",
    "X = np.random.randint(1, 11, size=(5,5))\n",
    "\n",
    "# print X\n",
    "print('Original X = \\n', X)\n",
    "print()\n",
    "\n",
    "# Sort the columns of X and print the sorted array\n",
    "\n",
    "print('X with sorted columns : \\n', np.sort(X, axis = 0))\n",
    "\n",
    "# Sort the rows of X and print the sorted array \n",
    "\n",
    "print('X with sorted rows:\\n', np.sort(X, axis = 1))"
   ]
  },
  {
   "cell_type": "markdown",
   "id": "7d58c551",
   "metadata": {},
   "source": [
    "## 5. Arithmetic operations and Broadcasting\n",
    "`Broadcasting` is the term used to describe how NumPy handles element-wise arithmetic operations with ndarrays of different shapes. For example, broadcasting is used implicitly when doing arithmetic operations between scalars and ndarrays."
   ]
  },
  {
   "cell_type": "markdown",
   "id": "390480d2",
   "metadata": {},
   "source": [
    "### Example 1. Element -wise arithmetic operation on 1-D arrays"
   ]
  },
  {
   "cell_type": "code",
   "execution_count": null,
   "id": "96956cbf",
   "metadata": {
    "scrolled": true
   },
   "outputs": [],
   "source": [
    "# We create two rank 1 ndarrays\n",
    "x = np.array([1,2,3,4])\n",
    "y = np.array([5.5,6.5,7.5,8.5])\n",
    "\n",
    "# We print x\n",
    "print()\n",
    "print('x = ', x)\n",
    "\n",
    "# We print y\n",
    "print()\n",
    "print('y = ', y)\n",
    "print()\n",
    "\n",
    "# We perfrom basic element-wise operations using arithmetic symbols and functions\n",
    "print('x + y = ', x + y)\n",
    "print('add(x,y) = ', np.add(x,y))\n",
    "print()\n",
    "print('x - y = ', x - y)\n",
    "print('subtract(x,y) = ', np.subtract(x,y))\n",
    "print()\n",
    "print('x * y = ', x * y)\n",
    "print('multiply(x,y) = ', np.multiply(x,y))\n",
    "print()\n",
    "print('x / y = ', x / y)\n",
    "print('divide(x,y) = ', np.divide(x,y))"
   ]
  },
  {
   "cell_type": "markdown",
   "id": "2021a903",
   "metadata": {},
   "source": [
    "### Example 2. Element-wise arithmetic operations on a 2-D array (Same shape)"
   ]
  },
  {
   "cell_type": "code",
   "execution_count": null,
   "id": "681f4da7",
   "metadata": {
    "scrolled": true
   },
   "outputs": [],
   "source": [
    "# Create two rank 2 ndarrays\n",
    "X = np.array([1,2 ,3, 4]).reshape(2,2)\n",
    "Y = np.array([5.5, 6.5, 7.5, 8.5]).reshape(2,2)\n",
    "# print X\n",
    "print('X = \\n', X)\n",
    "#print Y\n",
    "print('Y = \\n', Y)\n",
    "\n",
    "# We perform basic element-wise operations using arithmetic symbols and functions\n",
    "print('X + Y = \\n', X + Y)\n",
    "print()\n",
    "print('add(X,Y) = \\n', np.add(X,Y))\n",
    "print()\n",
    "print('X - Y = \\n', X - Y)\n",
    "print()\n",
    "print('subtract(X,Y) = \\n', np.subtract(X,Y))\n",
    "print()\n",
    "print('X * Y = \\n', X * Y)\n",
    "print()\n",
    "print('multiply(X,Y) = \\n', np.multiply(X,Y))\n",
    "print()\n",
    "print('X / Y = \\n', X / Y)\n",
    "print()\n",
    "print('divide(X,Y) = \\n', np.divide(X,Y))\n"
   ]
  },
  {
   "cell_type": "markdown",
   "id": "91898c03",
   "metadata": {},
   "source": [
    "### Example 3. Additional mathematical functions"
   ]
  },
  {
   "cell_type": "code",
   "execution_count": null,
   "id": "409f9d18",
   "metadata": {},
   "outputs": [],
   "source": [
    "# Create a rank 1 ndarray\n",
    "\n",
    "x = np.array([1, 2, 3, 4])\n",
    "\n",
    "# print x\n",
    "print('x= ', x)\n",
    "\n",
    "# Apply different mathematical functions to all elements of x\n",
    "print('EXP(x) = ', np.exp(x))\n",
    "print('SQRT(x) =', np.sqrt(x))\n",
    "print('POW(x,2)', np.power(x,2))"
   ]
  },
  {
   "cell_type": "markdown",
   "id": "a8222d24",
   "metadata": {},
   "source": [
    "### Example 4. Statistical functions"
   ]
  },
  {
   "cell_type": "code",
   "execution_count": null,
   "id": "a5ab46aa",
   "metadata": {
    "scrolled": true
   },
   "outputs": [],
   "source": [
    "# We create a 2 x 2 ndarray\n",
    "X = np.array([[1,2], [3,4]])\n",
    "\n",
    "# We print x\n",
    "print()\n",
    "print('X = \\n', X)\n",
    "print()\n",
    "\n",
    "print('Average of all elements in X:', X.mean())\n",
    "print('Average of all elements in the columns of X:', X.mean(axis=0))\n",
    "print('Average of all elements in the rows of X:', X.mean(axis=1))\n",
    "print()\n",
    "print('Sum of all elements in X:', X.sum())\n",
    "print('Sum of all elements in the columns of X:', X.sum(axis=0))\n",
    "print('Sum of all elements in the rows of X:', X.sum(axis=1))\n",
    "print()\n",
    "print('Standard Deviation of all elements in X:', X.std())\n",
    "print('Standard Deviation of all elements in the columns of X:', X.std(axis=0))\n",
    "print('Standard Deviation of all elements in the rows of X:', X.std(axis=1))\n",
    "print()\n",
    "print('Median of all elements in X:', np.median(X))\n",
    "print('Median of all elements in the columns of X:', np.median(X,axis=0))\n",
    "print('Median of all elements in the rows of X:', np.median(X,axis=1))\n",
    "print()\n",
    "print('Maximum value of all elements in X:', X.max())\n",
    "print('Maximum value of all elements in the columns of X:', X.max(axis=0))\n",
    "print('Maximum value of all elements in the rows of X:', X.max(axis=1))\n",
    "print()\n",
    "print('Minimum value of all elements in X:', X.min())\n",
    "print('Minimum value of all elements in the columns of X:', X.min(axis=0))\n",
    "print('Minimum value of all elements in the rows of X:', X.min(axis=1))"
   ]
  },
  {
   "cell_type": "markdown",
   "id": "56323412",
   "metadata": {},
   "source": [
    "### Example 5. Change value of all elements of an array"
   ]
  },
  {
   "cell_type": "code",
   "execution_count": null,
   "id": "ee99f303",
   "metadata": {
    "scrolled": false
   },
   "outputs": [],
   "source": [
    "# We create a 2 x 2 ndarray\n",
    "X = np.array([[1,2], [3,4]])\n",
    "\n",
    "# We print x\n",
    "print()\n",
    "print('X = \\n', X)\n",
    "print()\n",
    "\n",
    "print('3 * X = \\n', 3 * X)\n",
    "print()\n",
    "print('3 + X = \\n', 3 + X)\n",
    "print()\n",
    "print('X - 3 = \\n', X - 3)\n",
    "print()\n",
    "print('X / 3 = \\n', X / 3)"
   ]
  },
  {
   "cell_type": "markdown",
   "id": "11032b99",
   "metadata": {},
   "source": [
    "### Example 6. Arithmetic operations on 2-D arrays (Compatible shape)"
   ]
  },
  {
   "cell_type": "code",
   "execution_count": 4,
   "id": "0f702f6f",
   "metadata": {},
   "outputs": [
    {
     "name": "stdout",
     "output_type": "stream",
     "text": [
      "\n",
      "x =  [1 2 3]\n",
      "\n",
      "\n",
      "Y = \n",
      " [[1 2 3]\n",
      " [4 5 6]\n",
      " [7 8 9]]\n",
      "\n",
      "\n",
      "Z = \n",
      " [[1]\n",
      " [2]\n",
      " [3]]\n",
      "\n",
      "x + Y = \n",
      " [[ 2  4  6]\n",
      " [ 5  7  9]\n",
      " [ 8 10 12]]\n",
      "\n",
      "Z + Y = \n",
      " [[ 2  3  4]\n",
      " [ 6  7  8]\n",
      " [10 11 12]]\n"
     ]
    }
   ],
   "source": [
    "# We create a rank 1 ndarray\n",
    "x = np.array([1,2,3])\n",
    "\n",
    "# We create a 3 x 3 ndarray\n",
    "Y = np.array([[1,2,3],[4,5,6],[7,8,9]])\n",
    "\n",
    "# We create a 3 x 1 ndarray\n",
    "Z = np.array([1,2,3]).reshape(3,1)\n",
    "\n",
    "# We print x\n",
    "print()\n",
    "print('x = ', x)\n",
    "print()\n",
    "\n",
    "# We print Y\n",
    "print()\n",
    "print('Y = \\n', Y)\n",
    "print()\n",
    "\n",
    "# We print Z\n",
    "print()\n",
    "print('Z = \\n', Z)\n",
    "print()\n",
    "\n",
    "print('x + Y = \\n', x + Y)\n",
    "print()\n",
    "print('Z + Y = \\n',Z + Y)"
   ]
  },
  {
   "cell_type": "code",
   "execution_count": null,
   "id": "7aa5a8bf",
   "metadata": {},
   "outputs": [],
   "source": []
  },
  {
   "cell_type": "markdown",
   "id": "1adddf69",
   "metadata": {},
   "source": []
  }
 ],
 "metadata": {
  "kernelspec": {
   "display_name": "Python 3 (ipykernel)",
   "language": "python",
   "name": "python3"
  },
  "language_info": {
   "codemirror_mode": {
    "name": "ipython",
    "version": 3
   },
   "file_extension": ".py",
   "mimetype": "text/x-python",
   "name": "python",
   "nbconvert_exporter": "python",
   "pygments_lexer": "ipython3",
   "version": "3.10.1"
  }
 },
 "nbformat": 4,
 "nbformat_minor": 5
}
