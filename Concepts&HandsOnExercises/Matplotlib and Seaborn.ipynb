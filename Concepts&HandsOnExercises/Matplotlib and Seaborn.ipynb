{
 "cells": [
  {
   "cell_type": "markdown",
   "id": "66bedbb6",
   "metadata": {},
   "source": [
    "## 1. Bar Charts\n",
    "\n",
    "A `bar chart` depicts the distribution of a categorical variable. Each level of the categorical variable is depicted with a bar, whose height indicates the frequency of data points that take on the level."
   ]
  },
  {
   "cell_type": "markdown",
   "id": "0e1454df",
   "metadata": {},
   "source": [
    "### Bar chart using `Seaborn`"
   ]
  },
  {
   "cell_type": "markdown",
   "id": "f7899001",
   "metadata": {},
   "source": [
    "#### Example 1. Create a vertical var chart using Seaborn, with deafult colors\n"
   ]
  },
  {
   "cell_type": "code",
   "execution_count": null,
   "id": "e8dea00e",
   "metadata": {},
   "outputs": [],
   "source": [
    "# Import the necesary libraries \n",
    "import numpy as np\n",
    "import pandas as pd\n",
    "import matplotlib.pyplot as plt\n",
    "import seaborn as sb\n",
    "# magic command: it allows the plot to render directly inside the jupyter notebook\n",
    "%matplotlib inline  \n",
    "\n",
    "# Read the csv file, and check its top 10 rows\n",
    "pokemon = pd.read_csv('pokemon.csv')\n",
    "print(pokemon.shape)\n",
    "pokemon.head(10)\n",
    "\n",
    "sb.countplot(data = pokemon, x = 'generation_id') ; \n",
    "# A semicolon at the end of the statement will supress printing the plotting information"
   ]
  },
  {
   "cell_type": "markdown",
   "id": "fc12c364",
   "metadata": {},
   "source": [
    "#### Example 2. Create a vertical bar chart using Seaborn, with a uniform single color"
   ]
  },
  {
   "cell_type": "code",
   "execution_count": null,
   "id": "028100a3",
   "metadata": {},
   "outputs": [],
   "source": [
    "# The `color_palette()` returns the the current / default palette as a list of RGB tuples. \n",
    "# Each tuple consists of three digits specifying the red, green, and blue channel values to specify a color. \n",
    "# Choose the first tuple of RGB colors\n",
    "\n",
    "base_color = sb.color_palette()[0]\n",
    "\n",
    "# Use the color argument\n",
    "sb.countplot(data = pokemon, x ='generation_id', color = base_color);"
   ]
  },
  {
   "cell_type": "markdown",
   "id": "620006fd",
   "metadata": {},
   "source": [
    "### Bar Chart using the `Matplotlib` "
   ]
  },
  {
   "cell_type": "markdown",
   "id": "fab8044c",
   "metadata": {},
   "source": [
    "#### Example 3. Create a vertical bar chart using `Matplotlib`, with a uniform single color"
   ]
  },
  {
   "cell_type": "code",
   "execution_count": null,
   "id": "748c8a2f",
   "metadata": {
    "scrolled": true
   },
   "outputs": [],
   "source": [
    "# First return the series having unique values\n",
    "x = pokemon['generation_id'].unique()\n",
    "\n",
    "# Return the series having frequency count of each unique value\n",
    "\n",
    "y = pokemon['generation_id'].value_counts(sort=False)\n",
    "\n",
    "plt.bar(x,y)\n",
    "\n",
    "# Labeling the axis\n",
    "plt.xlabel('generation_id')\n",
    "plt.ylabel('count')\n",
    "# Display the plpt\n",
    "plt.show()"
   ]
  },
  {
   "cell_type": "markdown",
   "id": "43a0261a",
   "metadata": {},
   "source": [
    "#### Example 4. Static and dynamic ordering of the bars in a bar chart using `seaborn.countplot()`"
   ]
  },
  {
   "cell_type": "code",
   "execution_count": null,
   "id": "59a75aef",
   "metadata": {},
   "outputs": [],
   "source": [
    "# Static-ordering the bars\n",
    "sb.countplot(data = pokemon, x = 'generation_id', color = base_color, order = [5,1,3,4,2,7,6]);\n",
    "\n",
    "# Dynamic-ordering the bars\n",
    "# The order of the display of the bars can be computed with the following logic.\n",
    "# Count the frequency of each unique value in the 'generation_id' column, and sort it in descending order\n",
    "# Returns a Series\n",
    "freq = pokemon['generation_id'].value_counts()\n",
    "\n",
    "# Get the indexes of the Series\n",
    "gen_order = freq.index\n",
    "\n",
    "# Plot the bar chart in the decreasing order of the frequency of the `generation_id`\n",
    "sb.countplot(data = pokemon, x = 'generation_id', color = base_color, order = gen_order);"
   ]
  },
  {
   "cell_type": "markdown",
   "id": "8b85a70d",
   "metadata": {},
   "source": [
    "#### Example 5. Rotate the category labels (not axes)\n"
   ]
  },
  {
   "cell_type": "code",
   "execution_count": null,
   "id": "cf211c79",
   "metadata": {
    "scrolled": true
   },
   "outputs": [],
   "source": [
    "# Plot the Pokemon type on a Vertical bar chart\n",
    "sb.countplot(data = pokemon, x = 'type_1', color = base_color);\n",
    "# Use xticks to rotate the category labels (not axes) counter-clockwise\n",
    "plt.xticks(rotation = 90);"
   ]
  },
  {
   "cell_type": "markdown",
   "id": "a3b4fc0a",
   "metadata": {},
   "source": [
    "#### Example 6. Rotate the axes clockwise"
   ]
  },
  {
   "cell_type": "code",
   "execution_count": null,
   "id": "2ee1dd8f",
   "metadata": {
    "scrolled": false
   },
   "outputs": [],
   "source": [
    "# Plot the Pokemon type on a Horizontal bar chart\n",
    "type_order = pokemon['type_1'].value_counts().index\n",
    "sb.countplot(data = pokemon, y= 'type_1', color = base_color, order = type_order);"
   ]
  },
  {
   "cell_type": "markdown",
   "id": "30bbe9ff",
   "metadata": {},
   "source": [
    "## 2. Absolute Vs Relative Frequency \n",
    "By default, seaborn's `countplot` function will summarize and plot the data in terms of **absolute frequency**, or pure counts. In certain cases, you might want to understand the distribution of data or want to compare levels in terms of the proportions of the whole. In this case, you will want to plot the data in terms of **relative frequency**, where the height indicates the proportion of data taking each level, rather than the absolute count."
   ]
  },
  {
   "cell_type": "markdown",
   "id": "f65e5e68",
   "metadata": {},
   "source": [
    "### Example 1. Demonstrate data wrangling, and plot a horizontal bar chart.\n",
    "#### Example 1 - Step 1. Make the necessary import"
   ]
  },
  {
   "cell_type": "code",
   "execution_count": null,
   "id": "cc9e30f7",
   "metadata": {
    "scrolled": true
   },
   "outputs": [],
   "source": [
    "import numpy as np\n",
    "import pandas as pd\n",
    "import matplotlib.pyplot as plt\n",
    "import seaborn as sb\n",
    "# Read the dataset\n",
    "\n",
    "pokemon = pd.read_csv('pokemon.csv')\n",
    "\n",
    "print(pokemon.shape)\n",
    "pokemon.head(10)\n"
   ]
  },
  {
   "cell_type": "markdown",
   "id": "894ee0bd",
   "metadata": {},
   "source": [
    "#### Example 1 - Step 2. Data wrangling to reshape the pokemon dataframe using `pandas.DataFrame.melt()`"
   ]
  },
  {
   "cell_type": "code",
   "execution_count": null,
   "id": "1a878ac2",
   "metadata": {
    "scrolled": true
   },
   "outputs": [],
   "source": [
    "pkmn_types = pokemon.melt(id_vars=['id','species'],\n",
    "                         value_vars=['type_1','type_2'],\n",
    "                         var_name='type_level',\n",
    "                         value_name='type')\n",
    "pkmn_types.head(10)"
   ]
  },
  {
   "cell_type": "markdown",
   "id": "795d7b6e",
   "metadata": {},
   "source": [
    "#### Example 1 - Step 3. Find the frequency of unique values in the type column"
   ]
  },
  {
   "cell_type": "code",
   "execution_count": null,
   "id": "e0924231",
   "metadata": {},
   "outputs": [],
   "source": [
    "# Count the frequency of unique values in the `type` column of pkmn_types dataframe. \n",
    "# By default, returns the decreasing order of the frequency.\n",
    "type_counts = pkmn_types['type'].value_counts()\n",
    "# And get the unique values of the 'type' column, in the decreasing order of the frequency\n",
    "type_order = type_counts.index\n",
    "type_order"
   ]
  },
  {
   "cell_type": "markdown",
   "id": "4b296778",
   "metadata": {},
   "source": [
    "#### Example 1 - Step 4. Plot the horizontal bar charts"
   ]
  },
  {
   "cell_type": "code",
   "execution_count": null,
   "id": "dddc4b1e",
   "metadata": {
    "scrolled": true
   },
   "outputs": [],
   "source": [
    "base_color = sb.color_palette()[0]\n",
    "sb.countplot(data = pkmn_types, y = 'type', color = base_color, order = type_order);"
   ]
  },
  {
   "cell_type": "markdown",
   "id": "c8dc9672",
   "metadata": {},
   "source": [
    "### Example 2. Plot a bar chart having the proportions, instead of the actual count, on one of the axes.\n",
    "#### Example 2 - Step 1. Find the maximum proportion of bar"
   ]
  },
  {
   "cell_type": "code",
   "execution_count": null,
   "id": "ade12965",
   "metadata": {},
   "outputs": [],
   "source": [
    "# Return the sum of all not-null values in 'type' column\n",
    "n_pokemon = pkmn_types['type'].value_counts().sum()\n",
    "\n",
    "#Return the highest frequency in the 'type' column \n",
    "max_type_count = type_counts[0]\n",
    "\n",
    "# Return the maximum proportion, or in other words, \n",
    "# compute the length of the longest bar in terms of the proportion\n",
    "max_prop = max_type_count / n_pokemon\n",
    "\n",
    "print(max_prop)"
   ]
  },
  {
   "cell_type": "markdown",
   "id": "81fe6b5b",
   "metadata": {},
   "source": [
    "#### Example 2 - Step 2. Create an array of evenly spaced proportioned values"
   ]
  },
  {
   "cell_type": "code",
   "execution_count": null,
   "id": "76bf43a9",
   "metadata": {
    "scrolled": true
   },
   "outputs": [],
   "source": [
    "# Use numpy.arange() function to produce a set of evenly spaced proportioned values \n",
    "# between 0 and max_prop, with a step size 2\\%\n",
    "tick_props = np.arange(0, max_prop, 0.02)\n",
    "tick_props"
   ]
  },
  {
   "cell_type": "markdown",
   "id": "bb16c3e5",
   "metadata": {},
   "source": [
    "#### Example 2 - Step 3. Create a list of String values that can be used as tick labels."
   ]
  },
  {
   "cell_type": "code",
   "execution_count": null,
   "id": "d7ff2b7e",
   "metadata": {},
   "outputs": [],
   "source": [
    "# Use a list comprehension to create tick_names that we will apply to the tick labels. \n",
    "# Pick each element `v` from the `tick_props`, and convert it into a formatted string.\n",
    "# `{:0.2f}` denotes that before formatting, we 2 digits of precision and `f` is used to represent floating point number.\n",
    "# Refer [here](https://docs.python.org/2/library/string.html#format-string-syntax) for more details\n",
    "tick_names = ['{:0.2f}'.format(v) for v in tick_props]\n",
    "tick_names"
   ]
  },
  {
   "cell_type": "markdown",
   "id": "8996ab89",
   "metadata": {},
   "source": [
    "#### Example 2 - Step 4. Plot the bar chart, with new x-tick labels"
   ]
  },
  {
   "cell_type": "code",
   "execution_count": null,
   "id": "b1e6a3f9",
   "metadata": {
    "scrolled": true
   },
   "outputs": [],
   "source": [
    "sb.countplot(data = pkmn_types, y = 'type', color=base_color, order = type_order);\n",
    "\n",
    "plt.xticks(tick_props * n_pokemon, tick_names)\n",
    "plt.xlabel('proportion');"
   ]
  },
  {
   "cell_type": "markdown",
   "id": "90a74982",
   "metadata": {},
   "source": [
    "### 3. Additional Variation"
   ]
  },
  {
   "cell_type": "markdown",
   "id": "15063d64",
   "metadata": {},
   "source": [
    "#### Example 3. Print the text (proportion) on the bars of a horizontal plot."
   ]
  },
  {
   "cell_type": "code",
   "execution_count": null,
   "id": "b9e0ae48",
   "metadata": {
    "scrolled": true
   },
   "outputs": [],
   "source": [
    "# Considering the same chart from the Example 1 above, print the text (proportion) on the bars\n",
    "base_color = sb.color_palette()[0]\n",
    "sb.countplot(data=pkmn_types, y='type', color=base_color, order=type_order);\n",
    "\n",
    "# Logic to print the proportion text on the bars\n",
    "for i in range (type_counts.shape[0]):\n",
    "    # Remember, type_counts contains the frequency of unique values in the `type` column in decreasing order.\n",
    "    count = type_counts[i]\n",
    "    # Convert count into a percentage, and then into string\n",
    "    pct_string = '{:0.1f}'.format(100*count/n_pokemon)\n",
    "    # Print the string value on the bar. \n",
    "    # Read more about the arguments of text() function [here](https://matplotlib.org/3.1.1/api/_as_gen/matplotlib.pyplot.text.html)\n",
    "    plt.text(count+1, i, pct_string, va='center')"
   ]
  },
  {
   "cell_type": "markdown",
   "id": "49a103a3",
   "metadata": {},
   "source": [
    "#### Example 4. Print the text (proportion) below the bars of a Vertical plot."
   ]
  },
  {
   "cell_type": "code",
   "execution_count": null,
   "id": "1dfa8626",
   "metadata": {
    "scrolled": true
   },
   "outputs": [],
   "source": [
    "# Considering the same chart from the Example 1 above, print the text (proportion) BELOW the bars\n",
    "base_color = sb.color_palette()[0]\n",
    "sb.countplot(data=pkmn_types, x='type', color=base_color, order=type_order);\n",
    "\n",
    "\n",
    "# Recalculating the type_counts just to have clarity.\n",
    "type_counts = pkmn_types['type'].value_counts()\n",
    "\n",
    "# get the current tick locations and labels\n",
    "locs, labels = plt.xticks(rotation=90) \n",
    "\n",
    "# loop through each pair of locations and labels\n",
    "for loc, label in zip(locs, labels):\n",
    "\n",
    "    # get the text property for the label to get the correct count\n",
    "    count = type_counts[label.get_text()]\n",
    "    pct_string = '{:0.1f}%'.format(100*count/n_pokemon)\n",
    "\n",
    "    # print the annotation just below the top of the bar\n",
    "    plt.text(loc, count+2, pct_string, ha = 'center', color = 'black')"
   ]
  },
  {
   "cell_type": "code",
   "execution_count": null,
   "id": "becd9e28",
   "metadata": {},
   "outputs": [],
   "source": [
    "from matplotlib import rcParams\n",
    "# Specify the figure size in inches, for both X, and Y axes\n",
    "rcParams['figure.figsize'] = 12,4"
   ]
  },
  {
   "cell_type": "markdown",
   "id": "3faeefe4",
   "metadata": {},
   "source": [
    "## 3. Counting Missing Data \n",
    "\n",
    "If you have a large dataframe, and it contains a few missing values (`None or a numpy.NaN`), then you can find the count of such missing value across the given label. For this purpose, you can use either of the following two analogous functions :\n",
    "\n",
    "**1. pandas.DataFrame.isna()**\n",
    "\n",
    "**2. pandas.DataFrame.isnull()**\n",
    "\n",
    "The functions above are alias of each other and detect missing values by returning the same sized object as that of the calling dataframe, made up of boolean True/False."
   ]
  },
  {
   "cell_type": "markdown",
   "id": "3c9b032c",
   "metadata": {},
   "source": [
    "### Step 1 load the dataset"
   ]
  },
  {
   "cell_type": "code",
   "execution_count": null,
   "id": "800f66f0",
   "metadata": {
    "scrolled": true
   },
   "outputs": [],
   "source": [
    "import numpy as np\n",
    "import pandas as pd\n",
    "import matplotlib.pyplot as plt\n",
    "import seaborn as sb\n",
    "%matplotlib inline\n",
    "\n",
    "# Read the data from a CSV file\n",
    "# Original source of data: https://www.kaggle.com/manjeetsingh/retaildataset available under C0 1.0 Universal (CC0 1.0) Public Domain Dedication License\n",
    "sales_data = pd.read_csv('sales-data.csv')\n",
    "sales_data.head(10)"
   ]
  },
  {
   "cell_type": "code",
   "execution_count": null,
   "id": "927819e5",
   "metadata": {
    "scrolled": true
   },
   "outputs": [],
   "source": [
    "sales_data.shape"
   ]
  },
  {
   "cell_type": "code",
   "execution_count": null,
   "id": "c4bc2b0c",
   "metadata": {
    "scrolled": true
   },
   "outputs": [],
   "source": [
    "# Use either of the functions below\n",
    "# sales_data.isna()\n",
    "sales_data.isnull()"
   ]
  },
  {
   "cell_type": "code",
   "execution_count": null,
   "id": "db11d373",
   "metadata": {
    "scrolled": false
   },
   "outputs": [],
   "source": [
    "sales_data.isna().sum()"
   ]
  },
  {
   "cell_type": "markdown",
   "id": "c520eb95",
   "metadata": {},
   "source": [
    "### Step 2 - Prepare a NaN tabular data"
   ]
  },
  {
   "cell_type": "code",
   "execution_count": null,
   "id": "5c374508",
   "metadata": {
    "scrolled": true
   },
   "outputs": [],
   "source": [
    "# Let's drop the column that do not have any NaN/None values\n",
    "na_counts = sales_data.drop(['Date', 'Temperature', 'Fuel_Price'], axis = 1).isna().sum()\n",
    "print(na_counts)"
   ]
  },
  {
   "cell_type": "markdown",
   "id": "e02bb9d9",
   "metadata": {},
   "source": [
    "### Step 3 - Plot the bar chart from the NaN tabular data, and also print values on each bar"
   ]
  },
  {
   "cell_type": "code",
   "execution_count": null,
   "id": "669f3d87",
   "metadata": {
    "scrolled": true
   },
   "outputs": [],
   "source": [
    "# The first argument to the function below contains the x-values (column names), the second argument the y-values (our counts).\n",
    "# Refer to the syntax and more example here - https://seaborn.pydata.org/generated/seaborn.barplot.html\n",
    "sb.barplot(na_counts.index.values, na_counts)\n",
    "\n",
    "# get the current tick locations and labels\n",
    "plt.xticks(rotation=90) \n",
    "\n",
    "# Logic to print value on each bar\n",
    "for i in range (na_counts.shape[0]):\n",
    "    count = na_counts[i]\n",
    "\n",
    "    # Refer here for details of the text() - https://matplotlib.org/3.1.1/api/_as_gen/matplotlib.pyplot.text.html\n",
    "    plt.text(i, count+300, count, ha = 'center', va='top')"
   ]
  },
  {
   "cell_type": "markdown",
   "id": "e3ba35f0",
   "metadata": {},
   "source": [
    "# 4. Pie Charts\n",
    "\n",
    "A pie chart is a common univariate plot type that is used to depict relative frequencies for levels of a categorical variable.\n",
    "Frequencies in a pie chart are depicted as wedges drawn on a circle: the larger the angle or area, the more common the categorical value taken. Use a Pie chart only when the number of categories is less, and you'd like to see the proportion of each category on a chart."
   ]
  },
  {
   "cell_type": "markdown",
   "id": "236d3a39",
   "metadata": {},
   "source": [
    "### Example 1: Plot a simple Pie chart"
   ]
  },
  {
   "cell_type": "code",
   "execution_count": 32,
   "id": "19636045",
   "metadata": {
    "scrolled": true
   },
   "outputs": [
    {
     "data": {
      "image/png": "[encoded data removed]",
      "text/plain": [
       "<Figure size 432x288 with 1 Axes>"
      ]
     },
     "metadata": {},
     "output_type": "display_data"
    }
   ],
   "source": [
    "# Use  the same pokemon dataset\n",
    "sorted_counts = pokemon['generation_id'].value_counts()\n",
    "plt.pie(sorted_counts, labels = sorted_counts.index, startangle = 90, counterclock = False);\n",
    "plt.axis('square');\n"
   ]
  },
  {
   "cell_type": "markdown",
   "id": "23b4f77a",
   "metadata": {},
   "source": [
    "#### TO DO\n",
    "Did you notice the various arguments in the plt.pie() function? Particularly, the labels = sorted_counts.index argument represents a list of strings serving as labels for each wedge. In the example above, the labels have used the following list:"
   ]
  },
  {
   "cell_type": "code",
   "execution_count": 34,
   "id": "51df2d01",
   "metadata": {
    "scrolled": true
   },
   "outputs": [
    {
     "data": {
      "image/png": "[encoded data removed]",
      "text/plain": [
       "<Figure size 432x288 with 1 Axes>"
      ]
     },
     "metadata": {},
     "output_type": "display_data"
    }
   ],
   "source": [
    "new_sorted_index = ['gen{}'.format(i) for i in sorted_counts.index]\n",
    "\n",
    "plt.pie(sorted_counts, labels = new_sorted_index, startangle = 90, counterclock = False);\n",
    "plt.axis('square');\n"
   ]
  },
  {
   "cell_type": "markdown",
   "id": "d7de14d8",
   "metadata": {},
   "source": [
    "### Example 2. Plot a simple Donut plot"
   ]
  },
  {
   "cell_type": "code",
   "execution_count": 35,
   "id": "77e98c97",
   "metadata": {
    "scrolled": true
   },
   "outputs": [
    {
     "data": {
      "text/plain": [
       "(-1.1063354030102694,\n",
       " 1.1197837798494124,\n",
       " -1.114763917050899,\n",
       " 1.1113552658087829)"
      ]
     },
     "execution_count": 35,
     "metadata": {},
     "output_type": "execute_result"
    },
    {
     "data": {
      "image/png": "[encoded data removed]",
      "text/plain": [
       "<Figure size 432x288 with 1 Axes>"
      ]
     },
     "metadata": {},
     "output_type": "display_data"
    }
   ],
   "source": [
    "sorted_counts = pokemon['generation_id'].value_counts()\n",
    "\n",
    "plt.pie(sorted_counts, labels = sorted_counts.index, startangle = 90, counterclock = False, wedgeprops = {'width': 0.4});\n",
    "plt.axis('square')"
   ]
  },
  {
   "cell_type": "markdown",
   "id": "c73eed03",
   "metadata": {},
   "source": [
    "# 5. Histograms\n",
    "A histogram is used to plot the distribution of a numeric variable. It's the quantitative version of the bar chart. However, rather than plot one bar for each unique numeric value, values are grouped into continuous bins, and one bar for each bin is plotted to depict the number. You can use either Matplotlib or Seaborn to plot the histograms\n"
   ]
  },
  {
   "cell_type": "markdown",
   "id": "dee44b2b",
   "metadata": {},
   "source": [
    "### Example1. Plot a default Histogram "
   ]
  },
  {
   "cell_type": "code",
   "execution_count": 36,
   "id": "f4a9110a",
   "metadata": {
    "scrolled": true
   },
   "outputs": [
    {
     "name": "stdout",
     "output_type": "stream",
     "text": [
      "(807, 14)\n"
     ]
    },
    {
     "data": {
      "text/plain": [
       "(array([ 31.,  93., 163., 159., 128., 115.,  81.,  26.,   6.,   5.]),\n",
       " array([  5. ,  20.5,  36. ,  51.5,  67. ,  82.5,  98. , 113.5, 129. ,\n",
       "        144.5, 160. ]),\n",
       " <BarContainer object of 10 artists>)"
      ]
     },
     "execution_count": 36,
     "metadata": {},
     "output_type": "execute_result"
    },
    {
     "data": {
      "image/png": "[encoded data removed]",
      "text/plain": [
       "<Figure size 432x288 with 1 Axes>"
      ]
     },
     "metadata": {
      "needs_background": "light"
     },
     "output_type": "display_data"
    }
   ],
   "source": [
    "# import the neccessary libraires \n",
    "import numpy as np\n",
    "import pandas as pd\n",
    "import matplotlib.pyplot as plt\n",
    "import seaborn as sb\n",
    "%matplotlib inline\n",
    "\n",
    "pokemon = pd.read_csv('pokemon.csv')\n",
    "print(pokemon.shape)\n",
    "pokemon.head(10)\n",
    "\n",
    "# plot the deafult histogram \n",
    "plt.hist(data = pokemon, x = 'speed')"
   ]
  },
  {
   "cell_type": "code",
   "execution_count": 39,
   "id": "57a66118",
   "metadata": {
    "scrolled": true
   },
   "outputs": [
    {
     "data": {
      "text/plain": [
       "count    807.000000\n",
       "mean      65.830235\n",
       "std       27.736838\n",
       "min        5.000000\n",
       "25%       45.000000\n",
       "50%       65.000000\n",
       "75%       85.000000\n",
       "max      160.000000\n",
       "Name: speed, dtype: float64"
      ]
     },
     "execution_count": 39,
     "metadata": {},
     "output_type": "execute_result"
    }
   ],
   "source": [
    "# You can use descriptive statistics (e.g. via dataframe['column'].describe())\n",
    "#to gauge what minimum and maximum bin limits might be appropriate for the plot\n",
    "pokemon['speed'].describe()"
   ]
  },
  {
   "cell_type": "code",
   "execution_count": 40,
   "id": "b550dd17",
   "metadata": {},
   "outputs": [
    {
     "data": {
      "text/plain": [
       "(array([  6.,  25.,  21.,  72.,  66.,  97.,  53., 106.,  64.,  64.,  69.,\n",
       "         46.,  52.,  29.,  18.,   8.,   5.,   1.,   4.,   1.]),\n",
       " array([  5.  ,  12.75,  20.5 ,  28.25,  36.  ,  43.75,  51.5 ,  59.25,\n",
       "         67.  ,  74.75,  82.5 ,  90.25,  98.  , 105.75, 113.5 , 121.25,\n",
       "        129.  , 136.75, 144.5 , 152.25, 160.  ]),\n",
       " <BarContainer object of 20 artists>)"
      ]
     },
     "execution_count": 40,
     "metadata": {},
     "output_type": "execute_result"
    },
    {
     "data": {
      "image/png": "[encoded data removed]",
      "text/plain": [
       "<Figure size 432x288 with 1 Axes>"
      ]
     },
     "metadata": {
      "needs_background": "light"
     },
     "output_type": "display_data"
    }
   ],
   "source": [
    "# Histogram with fixed number of bins \n",
    "plt.hist(data = pokemon, x = 'speed', bins = 20)"
   ]
  },
  {
   "cell_type": "code",
   "execution_count": 41,
   "id": "26c673cf",
   "metadata": {
    "scrolled": true
   },
   "outputs": [
    {
     "data": {
      "text/plain": [
       "(array([ 0.,  3.,  4., 11., 19., 18., 43., 38., 57., 46., 53., 48., 62.,\n",
       "        55., 53., 27., 45., 32., 39., 42., 36., 22., 18., 12.,  8.,  5.,\n",
       "         5.,  0.,  1.,  1.,  3.,  1.]),\n",
       " array([  0,   5,  10,  15,  20,  25,  30,  35,  40,  45,  50,  55,  60,\n",
       "         65,  70,  75,  80,  85,  90,  95, 100, 105, 110, 115, 120, 125,\n",
       "        130, 135, 140, 145, 150, 155, 160], dtype=int64),\n",
       " <BarContainer object of 32 artists>)"
      ]
     },
     "execution_count": 41,
     "metadata": {},
     "output_type": "execute_result"
    },
    {
     "data": {
      "image/png": "[encoded data removed]",
      "text/plain": [
       "<Figure size 432x288 with 1 Axes>"
      ]
     },
     "metadata": {
      "needs_background": "light"
     },
     "output_type": "display_data"
    }
   ],
   "source": [
    "# Histogram with dynamic number of bins\n",
    "# Create bins with step-size 5\n",
    "bins = np.arange(0, pokemon['speed'].max()+5, 5)\n",
    "plt.hist(data = pokemon, x = 'speed', bins = bins)"
   ]
  },
  {
   "cell_type": "markdown",
   "id": "71b8e752",
   "metadata": {},
   "source": [
    "### Example 2. Plot the similar histogram with Seaborn's `distplot()`"
   ]
  },
  {
   "cell_type": "code",
   "execution_count": 46,
   "id": "1df8f59c",
   "metadata": {},
   "outputs": [
    {
     "data": {
      "text/plain": [
       "<seaborn.axisgrid.FacetGrid at 0x18bfda3d270>"
      ]
     },
     "execution_count": 46,
     "metadata": {},
     "output_type": "execute_result"
    },
    {
     "data": {
      "image/png": "[encoded data removed]",
      "text/plain": [
       "<Figure size 360x360 with 1 Axes>"
      ]
     },
     "metadata": {
      "needs_background": "light"
     },
     "output_type": "display_data"
    },
    {
     "data": {
      "image/png": "[encoded data removed]",
      "text/plain": [
       "<Figure size 360x360 with 1 Axes>"
      ]
     },
     "metadata": {
      "needs_background": "light"
     },
     "output_type": "display_data"
    }
   ],
   "source": [
    "sb.displot(pokemon['speed'])\n",
    "# Set the argument `kde=False` to remove the estimate-line representing the Gaussian kernel density estimate.\n",
    "sb.displot(pokemon['speed'], kde = True)"
   ]
  },
  {
   "cell_type": "code",
   "execution_count": 51,
   "id": "7528cd34",
   "metadata": {
    "scrolled": false
   },
   "outputs": [
    {
     "name": "stderr",
     "output_type": "stream",
     "text": [
      "C:\\Users\\user\\AppData\\Local\\Temp/ipykernel_8752/3120789597.py:2: UserWarning: \n",
      "\n",
      "`distplot` is a deprecated function and will be removed in seaborn v0.14.0.\n",
      "\n",
      "Please adapt your code to use either `displot` (a figure-level function with\n",
      "similar flexibility) or `histplot` (an axes-level function for histograms).\n",
      "\n",
      "For a guide to updating your code to use the new functions, please see\n",
      "https://gist.github.com/mwaskom/de44147ed2974457ad6372750bbe5751\n",
      "\n",
      "  sb.distplot(pokemon['speed'], bins = bin_edges, kde = False,hist_kws = {'alpha' : 1})\n"
     ]
    },
    {
     "data": {
      "text/plain": [
       "<AxesSubplot:xlabel='speed'>"
      ]
     },
     "execution_count": 51,
     "metadata": {},
     "output_type": "execute_result"
    },
    {
     "data": {
      "image/png": "[encoded data removed]",
      "text/plain": [
       "<Figure size 432x288 with 1 Axes>"
      ]
     },
     "metadata": {
      "needs_background": "light"
     },
     "output_type": "display_data"
    }
   ],
   "source": [
    "bin_edges = np.arange(0, pokemon['speed'].max()+1, 1)\n",
    "sb.distplot(pokemon['speed'], bins = bin_edges, kde = False,hist_kws = {'alpha' : 1})"
   ]
  },
  {
   "cell_type": "markdown",
   "id": "636653d3",
   "metadata": {},
   "source": [
    "## Example 3. Plot two histograms side-by-side"
   ]
  },
  {
   "cell_type": "code",
   "execution_count": 52,
   "id": "40d88182",
   "metadata": {},
   "outputs": [
    {
     "data": {
      "image/png": "[encoded data removed]",
      "text/plain": [
       "<Figure size 1440x360 with 2 Axes>"
      ]
     },
     "metadata": {
      "needs_background": "light"
     },
     "output_type": "display_data"
    }
   ],
   "source": [
    "# Resize the chart, and have two plots side-by-side\n",
    "# Set a larger figure size for subplots\n",
    "plt.figure(figsize = [20, 5]) \n",
    "\n",
    "# histogram on left, example of too-large bin size\n",
    "# 1 row, 2 cols, subplot 1\n",
    "plt.subplot(1, 2, 1) \n",
    "bins = np.arange(0, pokemon['speed'].max()+4, 4)\n",
    "plt.hist(data = pokemon, x = 'speed', bins = bins);\n",
    "\n",
    "# histogram on right, example of too-small bin size\n",
    "plt.subplot(1, 2, 2) # 1 row, 2 cols, subplot 2\n",
    "bins = np.arange(0, pokemon['speed'].max()+1/4, 1/4)\n",
    "plt.hist(data = pokemon, x = 'speed', bins = bins);"
   ]
  }
 ],
 "metadata": {
  "kernelspec": {
   "display_name": "Python 3 (ipykernel)",
   "language": "python",
   "name": "python3"
  },
  "language_info": {
   "codemirror_mode": {
    "name": "ipython",
    "version": 3
   },
   "file_extension": ".py",
   "mimetype": "text/x-python",
   "name": "python",
   "nbconvert_exporter": "python",
   "pygments_lexer": "ipython3",
   "version": "3.10.1"
  }
 },
 "nbformat": 4,
 "nbformat_minor": 5
}
